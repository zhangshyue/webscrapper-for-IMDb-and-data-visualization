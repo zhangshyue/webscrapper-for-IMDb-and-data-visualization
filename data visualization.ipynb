{
 "cells": [
  {
   "cell_type": "code",
   "execution_count": 24,
   "metadata": {},
   "outputs": [
    {
     "data": {
      "text/html": [
       "<div>\n",
       "<style scoped>\n",
       "    .dataframe tbody tr th:only-of-type {\n",
       "        vertical-align: middle;\n",
       "    }\n",
       "\n",
       "    .dataframe tbody tr th {\n",
       "        vertical-align: top;\n",
       "    }\n",
       "\n",
       "    .dataframe thead th {\n",
       "        text-align: right;\n",
       "    }\n",
       "</style>\n",
       "<table border=\"1\" class=\"dataframe\">\n",
       "  <thead>\n",
       "    <tr style=\"text-align: right;\">\n",
       "      <th></th>\n",
       "      <th>budget</th>\n",
       "      <th>length</th>\n",
       "      <th>metascore</th>\n",
       "      <th>name</th>\n",
       "      <th>num_of_user</th>\n",
       "      <th>popularity</th>\n",
       "      <th>user_rating</th>\n",
       "    </tr>\n",
       "  </thead>\n",
       "  <tbody>\n",
       "    <tr>\n",
       "      <th>0</th>\n",
       "      <td>75000000</td>\n",
       "      <td>1h 26min</td>\n",
       "      <td>51</td>\n",
       "      <td>The Grinch</td>\n",
       "      <td>15802</td>\n",
       "      <td>3</td>\n",
       "      <td>6.4</td>\n",
       "    </tr>\n",
       "    <tr>\n",
       "      <th>1</th>\n",
       "      <td>42000000</td>\n",
       "      <td>1h 30min</td>\n",
       "      <td>24</td>\n",
       "      <td>Holmes &amp; Watson</td>\n",
       "      <td>4029</td>\n",
       "      <td>6</td>\n",
       "      <td>3.4</td>\n",
       "    </tr>\n",
       "    <tr>\n",
       "      <th>2</th>\n",
       "      <td>16000000</td>\n",
       "      <td>1h 43min</td>\n",
       "      <td>49</td>\n",
       "      <td>Second Act</td>\n",
       "      <td>1816</td>\n",
       "      <td>5</td>\n",
       "      <td>6.0</td>\n",
       "    </tr>\n",
       "    <tr>\n",
       "      <th>3</th>\n",
       "      <td>60000000</td>\n",
       "      <td>2h 12min</td>\n",
       "      <td>61</td>\n",
       "      <td>Vice</td>\n",
       "      <td>5309</td>\n",
       "      <td>7</td>\n",
       "      <td>7.1</td>\n",
       "    </tr>\n",
       "    <tr>\n",
       "      <th>4</th>\n",
       "      <td>160000000</td>\n",
       "      <td>2h 23min</td>\n",
       "      <td>55</td>\n",
       "      <td>Aquaman</td>\n",
       "      <td>91027</td>\n",
       "      <td>2</td>\n",
       "      <td>7.6</td>\n",
       "    </tr>\n",
       "    <tr>\n",
       "      <th>5</th>\n",
       "      <td>90000000</td>\n",
       "      <td>1h 57min</td>\n",
       "      <td>87</td>\n",
       "      <td>Spider-Man: Into the Spider-Verse</td>\n",
       "      <td>54379</td>\n",
       "      <td>4</td>\n",
       "      <td>8.7</td>\n",
       "    </tr>\n",
       "    <tr>\n",
       "      <th>6</th>\n",
       "      <td>175000000</td>\n",
       "      <td>1h 52min</td>\n",
       "      <td>71</td>\n",
       "      <td>Ralph Breaks the Internet</td>\n",
       "      <td>27147</td>\n",
       "      <td>4</td>\n",
       "      <td>7.4</td>\n",
       "    </tr>\n",
       "    <tr>\n",
       "      <th>7</th>\n",
       "      <td>50000000</td>\n",
       "      <td>1h 56min</td>\n",
       "      <td>58</td>\n",
       "      <td>The Mule</td>\n",
       "      <td>5638</td>\n",
       "      <td>1</td>\n",
       "      <td>7.2</td>\n",
       "    </tr>\n",
       "    <tr>\n",
       "      <th>8</th>\n",
       "      <td>130000000</td>\n",
       "      <td>2h 10min</td>\n",
       "      <td>65</td>\n",
       "      <td>Mary Poppins Returns</td>\n",
       "      <td>16146</td>\n",
       "      <td>3</td>\n",
       "      <td>7.3</td>\n",
       "    </tr>\n",
       "    <tr>\n",
       "      <th>9</th>\n",
       "      <td>135000000</td>\n",
       "      <td>1h 54min</td>\n",
       "      <td>66</td>\n",
       "      <td>Bumblebee</td>\n",
       "      <td>19882</td>\n",
       "      <td>5</td>\n",
       "      <td>7.3</td>\n",
       "    </tr>\n",
       "  </tbody>\n",
       "</table>\n",
       "</div>"
      ],
      "text/plain": [
       "      budget    length metascore                               name  \\\n",
       "0   75000000  1h 26min        51                         The Grinch   \n",
       "1   42000000  1h 30min        24                    Holmes & Watson   \n",
       "2   16000000  1h 43min        49                         Second Act   \n",
       "3   60000000  2h 12min        61                               Vice   \n",
       "4  160000000  2h 23min        55                            Aquaman   \n",
       "5   90000000  1h 57min        87  Spider-Man: Into the Spider-Verse   \n",
       "6  175000000  1h 52min        71          Ralph Breaks the Internet   \n",
       "7   50000000  1h 56min        58                           The Mule   \n",
       "8  130000000  2h 10min        65               Mary Poppins Returns   \n",
       "9  135000000  1h 54min        66                          Bumblebee   \n",
       "\n",
       "   num_of_user popularity user_rating  \n",
       "0        15802          3         6.4  \n",
       "1         4029          6         3.4  \n",
       "2         1816          5         6.0  \n",
       "3         5309          7         7.1  \n",
       "4        91027          2         7.6  \n",
       "5        54379          4         8.7  \n",
       "6        27147          4         7.4  \n",
       "7         5638          1         7.2  \n",
       "8        16146          3         7.3  \n",
       "9        19882          5         7.3  "
      ]
     },
     "execution_count": 24,
     "metadata": {},
     "output_type": "execute_result"
    }
   ],
   "source": [
    "import pymongo\n",
    "import pandas as pd\n",
    "from pandas import Series,DataFrame\n",
    "#连接数据库\n",
    "client = pymongo.MongoClient('localhost',27017)\n",
    "db = client['tutorial']\n",
    "info = ganji['imdb_top_box_office']\n",
    "#加载数据\n",
    "data = DataFrame(list(info.find()))\n",
    "#删除不想要的字段\n",
    "data_new = data.drop(columns=['_id','url','n'])\n",
    "data_new"
   ]
  },
  {
   "cell_type": "code",
   "execution_count": 20,
   "metadata": {},
   "outputs": [
    {
     "data": {
      "text/plain": [
       "<matplotlib.collections.PathCollection at 0x1b09e58f080>"
      ]
     },
     "execution_count": 20,
     "metadata": {},
     "output_type": "execute_result"
    },
    {
     "data": {
      "image/png": "[encoded data removed]",
      "text/plain": [
       "<Figure size 432x288 with 1 Axes>"
      ]
     },
     "metadata": {},
     "output_type": "display_data"
    }
   ],
   "source": [
    "import matplotlib.pyplot as plt\n",
    "num=data_new['num_of_user'].astype(\"int\")\n",
    "popularity=data_new['popularity'].astype(\"int\")\n",
    "plt.scatter(popularity, num)\n"
   ]
  },
  {
   "cell_type": "code",
   "execution_count": 26,
   "metadata": {},
   "outputs": [
    {
     "data": {
      "text/plain": [
       "<matplotlib.collections.PathCollection at 0x1b09f6a3828>"
      ]
     },
     "execution_count": 26,
     "metadata": {},
     "output_type": "execute_result"
    },
    {
     "data": {
      "image/png": "[encoded data removed]",
      "text/plain": [
       "<Figure size 432x288 with 1 Axes>"
      ]
     },
     "metadata": {},
     "output_type": "display_data"
    }
   ],
   "source": [
    "score=data_new['metascore'].astype(\"int\")\n",
    "rating=data_new['user_rating'].astype(\"double\")\n",
    "plt.scatter(score, rating)\n"
   ]
  },
  {
   "cell_type": "code",
   "execution_count": null,
   "metadata": {},
   "outputs": [],
   "source": []
  }
 ],
 "metadata": {
  "kernelspec": {
   "display_name": "Python 3",
   "language": "python",
   "name": "python3"
  },
  "language_info": {
   "codemirror_mode": {
    "name": "ipython",
    "version": 3
   },
   "file_extension": ".py",
   "mimetype": "text/x-python",
   "name": "python",
   "nbconvert_exporter": "python",
   "pygments_lexer": "ipython3",
   "version": "3.6.5"
  }
 },
 "nbformat": 4,
 "nbformat_minor": 2
}
